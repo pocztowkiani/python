{
 "cells": [
  {
   "cell_type": "markdown",
   "id": "69ed9812-d33f-4c76-9077-7d86bae9bfe9",
   "metadata": {},
   "source": [
    "#### 1. Przygotuj funkcję LOWERCASE, która jako argument przyjmie łancuch znaków (string) róznej wielkości i zwróci go napisanego w całości małymi literami."
   ]
  },
  {
   "cell_type": "code",
   "execution_count": 16,
   "id": "d9a33f20-c966-4780-b34a-9a4c00f096a5",
   "metadata": {},
   "outputs": [
    {
     "name": "stdin",
     "output_type": "stream",
     "text": [
      "Podaj łańcuch znaków aSAa\n"
     ]
    },
    {
     "name": "stdout",
     "output_type": "stream",
     "text": [
      "asaa\n"
     ]
    }
   ],
   "source": [
    "def LOWERCASE():\n",
    "    x = input('Podaj łańcuch znaków')\n",
    "    return x.lower()\n",
    "\n",
    "print(LOWERCASE())"
   ]
  },
  {
   "cell_type": "markdown",
   "id": "af83756a-b096-4870-8463-e48874470e66",
   "metadata": {},
   "source": [
    "#### 2. Przygotuj funkcje SWITCH_CASE, która przyjmując jako argument ciąg znaków, zwróci jego małe litery w postaci wielkich, a wielkie w postaci małych. Zignoruj interpunkcję i inne znaki."
   ]
  },
  {
   "cell_type": "code",
   "execution_count": 51,
   "id": "4d3890d2-9311-4181-b30c-62faaa8dc9c2",
   "metadata": {},
   "outputs": [
    {
     "name": "stdin",
     "output_type": "stream",
     "text": [
      "Podaj łancuch znaków AbCdE!!-@,*\n"
     ]
    },
    {
     "name": "stdout",
     "output_type": "stream",
     "text": [
      "aBcDe!!-@,*\n"
     ]
    }
   ],
   "source": [
    "def SWITCH_CASE():\n",
    "    x = input('Podaj łancuch znaków') \n",
    "    for i in range(len(x)):\n",
    "        if x[i]==x.upper()[i]:\n",
    "            x=x.replace(x[i],x.lower()[i])\n",
    "        else:\n",
    "            x=x.replace(x[i],x.upper()[i])\n",
    "    return x\n",
    "\n",
    "print(SWITCH_CASE())"
   ]
  },
  {
   "cell_type": "markdown",
   "id": "2d20bfe8-fba7-4b71-8bcd-48eac2e9ccc6",
   "metadata": {},
   "source": [
    "#### 3. Przygotuj funkcję REVERSE_STRING, która zwróci ciąg w odwrotnej kolejności."
   ]
  },
  {
   "cell_type": "code",
   "execution_count": 10,
   "id": "0f68894c-ed75-41f1-a8be-518eb2f958c2",
   "metadata": {},
   "outputs": [
    {
     "name": "stdout",
     "output_type": "stream",
     "text": [
      "Szybka piłka!\n"
     ]
    }
   ],
   "source": [
    "x = '!akłip akbyzS'\n",
    "\n",
    "def REVERSE_STRING(x):\n",
    "    return x[::-1]\n",
    "\n",
    "print(REVERSE_STRING(x))"
   ]
  },
  {
   "cell_type": "code",
   "execution_count": null,
   "id": "dd04ab7b-0dbe-4f85-a1ab-a90d53026500",
   "metadata": {},
   "outputs": [],
   "source": []
  },
  {
   "cell_type": "code",
   "execution_count": null,
   "id": "affa1e1a-f512-4f9d-a1f2-3832198ce7c2",
   "metadata": {},
   "outputs": [],
   "source": []
  }
 ],
 "metadata": {
  "kernelspec": {
   "display_name": "Python 3 (ipykernel)",
   "language": "python",
   "name": "python3"
  },
  "language_info": {
   "codemirror_mode": {
    "name": "ipython",
    "version": 3
   },
   "file_extension": ".py",
   "mimetype": "text/x-python",
   "name": "python",
   "nbconvert_exporter": "python",
   "pygments_lexer": "ipython3",
   "version": "3.9.7"
  }
 },
 "nbformat": 4,
 "nbformat_minor": 5
}
