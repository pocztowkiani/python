{
 "cells": [
  {
   "cell_type": "markdown",
   "id": "69ed9812-d33f-4c76-9077-7d86bae9bfe9",
   "metadata": {},
   "source": [
    "#### 1. Przygotuj funkcję LOWERCASE, która jako argument przyjmie łancuch znaków (string) róznej wielkości i zwróci go napisanego w całości małymi literami."
   ]
  },
  {
   "cell_type": "code",
   "execution_count": 3,
   "id": "d9a33f20-c966-4780-b34a-9a4c00f096a5",
   "metadata": {},
   "outputs": [
    {
     "name": "stdin",
     "output_type": "stream",
     "text": [
      "Podaj łańcuch znaków asscassfcsdcAADSCSAa\n"
     ]
    },
    {
     "name": "stdout",
     "output_type": "stream",
     "text": [
      "asscassfcsdcaadscsaa\n"
     ]
    }
   ],
   "source": [
    "def lowercase():\n",
    "    x = input('Podaj łańcuch znaków')\n",
    "    return x.lower()\n",
    "\n",
    "print(lowercase())"
   ]
  },
  {
   "cell_type": "markdown",
   "id": "af83756a-b096-4870-8463-e48874470e66",
   "metadata": {},
   "source": [
    "#### 2. Przygotuj funkcje SWITCH_CASE, która przyjmując jako argument ciąg znaków, zwróci jego małe litery w postaci wielkich, a wielkie w postaci małych. Zignoruj interpunkcję i inne znaki."
   ]
  },
  {
   "cell_type": "code",
   "execution_count": 4,
   "id": "4d3890d2-9311-4181-b30c-62faaa8dc9c2",
   "metadata": {},
   "outputs": [
    {
     "name": "stdin",
     "output_type": "stream",
     "text": [
      "Podaj łancuch znaków acacasd!!cdcxafqwedASS\n"
     ]
    },
    {
     "name": "stdout",
     "output_type": "stream",
     "text": [
      "AcAcASD!!cDcXAFQWEDASS\n"
     ]
    }
   ],
   "source": [
    "def switch_case():\n",
    "    x = input('Podaj łancuch znaków') \n",
    "    for i in range(len(x)):\n",
    "        if x[i]==x.upper()[i]:\n",
    "            x=x.replace(x[i],x.lower()[i])\n",
    "        else:\n",
    "            x=x.replace(x[i],x.upper()[i])\n",
    "    return x\n",
    "\n",
    "print(switch_case())"
   ]
  },
  {
   "cell_type": "markdown",
   "id": "2d20bfe8-fba7-4b71-8bcd-48eac2e9ccc6",
   "metadata": {},
   "source": [
    "#### 3. Przygotuj funkcję REVERSE_STRING, która zwróci ciąg w odwrotnej kolejności."
   ]
  },
  {
   "cell_type": "code",
   "execution_count": 5,
   "id": "0f68894c-ed75-41f1-a8be-518eb2f958c2",
   "metadata": {},
   "outputs": [
    {
     "name": "stdout",
     "output_type": "stream",
     "text": [
      "Szybka piłka!\n"
     ]
    }
   ],
   "source": [
    "x = '!akłip akbyzS'\n",
    "\n",
    "def reverse_string(x):\n",
    "    return x[::-1]\n",
    "\n",
    "print(reverse_string(x))"
   ]
  },
  {
   "cell_type": "markdown",
   "id": "fdd6df98-957b-46ae-bb78-40b4c67d0305",
   "metadata": {},
   "source": [
    "#### 4.Stwórz funkcję GERUND_INFINITIVE, która do otrzymanego czasownika zwraca bezokolicznik z przedrostkiem  \"to\" (np. doing -> to do). Jeśli słowo nie końćzy się na \"ing\", zwróć \"To nie jest rzeczownik odsłowny!\""
   ]
  },
  {
   "cell_type": "code",
   "execution_count": 6,
   "id": "affa1e1a-f512-4f9d-a1f2-3832198ce7c2",
   "metadata": {},
   "outputs": [
    {
     "name": "stdout",
     "output_type": "stream",
     "text": [
      "to do\n"
     ]
    }
   ],
   "source": [
    "def gerund_infinitive(x):\n",
    "    if x[-3:] == 'ing':\n",
    "        return 'to '+ x[:-3]\n",
    "    else:\n",
    "        return(\"To nie jest rzeczownik odsłowny!\")\n",
    "    \n",
    "print(gerund_infinitive('doing'))  "
   ]
  },
  {
   "cell_type": "markdown",
   "id": "f5487497-a70a-4b64-8558-67c83196a800",
   "metadata": {},
   "source": [
    "#### 5. Stwórz funkcję CAPITAL_INDEXES, która przyjmuje ciąg znaków (string) jako jedyny argument. Twoja funkcja powinna zwracać listę indeksów w tym ciągu, które są napisane z wielkich liter."
   ]
  },
  {
   "cell_type": "code",
   "execution_count": 7,
   "id": "44c50832-19e0-4840-88c6-e697a8af3ed9",
   "metadata": {},
   "outputs": [
    {
     "name": "stdout",
     "output_type": "stream",
     "text": [
      "[0, 10]\n"
     ]
    }
   ],
   "source": [
    "def capital_indexes(string):\n",
    "    lista = []\n",
    "    for i in range(len(string)):\n",
    "        if (string[i]==string.upper()[i]) and (string.upper()[i]!=string.lower()[i]):\n",
    "            lista.append(i) \n",
    "    return lista\n",
    "            \n",
    "print(capital_indexes(\"Pocztówki Ani\"))    "
   ]
  },
  {
   "cell_type": "markdown",
   "id": "56b656c1-f3d1-448d-9c4c-6cd7764ad293",
   "metadata": {},
   "source": [
    "#### 6. Przygotuj funckję WOMENSDAY, która spyta użytkownika o imię. Jeśli będzie się ono kończyło na \"a\", złoży użytkownikowi życzenia na Dzień Kobiet. W przeciwnym razie, wykona inną czynnność."
   ]
  },
  {
   "cell_type": "code",
   "execution_count": 9,
   "id": "46edc268-1152-4114-aaa9-1936a6e80682",
   "metadata": {},
   "outputs": [
    {
     "name": "stdin",
     "output_type": "stream",
     "text": [
      "Jak masz na imię? Ania\n"
     ]
    },
    {
     "name": "stdout",
     "output_type": "stream",
     "text": [
      "Wszystkiego najlepszego z okazji Dnia Kobiet\n"
     ]
    }
   ],
   "source": [
    "def womensday():\n",
    "    imie = input(\"Jak masz na imię?\")\n",
    "    if imie[-1:] == 'a':\n",
    "        return(\"Wszystkiego najlepszego z okazji Dnia Kobiet\")\n",
    "    else:\n",
    "        return(\"Dzień mężczyzny już za 2 dni\")\n",
    "\n",
    "print(womensday())"
   ]
  },
  {
   "cell_type": "markdown",
   "id": "d9a32f90-f405-4580-98e2-13c661cde399",
   "metadata": {},
   "source": [
    "#### 7. Utwórz funckję MID, która przyjmuje ciąg znaków (string) jako argument. Powinna zwrócić jego środkowy element. Jeśli ilość znaków jest parzysta (brak środkowego elementu), funkcja powinna zwracać \"\"."
   ]
  },
  {
   "cell_type": "code",
   "execution_count": 14,
   "id": "1f3c477f-4cf1-4243-885d-09265ffb9270",
   "metadata": {},
   "outputs": [
    {
     "name": "stdout",
     "output_type": "stream",
     "text": [
      "k\n"
     ]
    }
   ],
   "source": [
    "def mid (string):\n",
    "    if len(string)%2 == 0:\n",
    "        return(\"\")\n",
    "    else:\n",
    "        return string[int(len(string)/2-0.5)]\n",
    "    \n",
    "print(mid(\"ABCDedksmmsad\"))"
   ]
  },
  {
   "cell_type": "markdown",
   "id": "bb64f236-a469-42da-b1b8-3f8967f2c287",
   "metadata": {},
   "source": [
    "#### 8. Stwórz generator zabawnych imion i nazwik męskich. "
   ]
  },
  {
   "cell_type": "code",
   "execution_count": 5,
   "id": "cd9f3281-5aa7-4b15-bc01-f4c5bba609eb",
   "metadata": {},
   "outputs": [
    {
     "name": "stdin",
     "output_type": "stream",
     "text": [
      "Jaki jest twój ulubiony kolor? różowy\n",
      "Jakie jest twoje ulubione danie? karkówka\n"
     ]
    },
    {
     "name": "stdout",
     "output_type": "stream",
     "text": [
      "Nazywasz się: Karkówkader Różowski\n"
     ]
    }
   ],
   "source": [
    "import random\n",
    "def generator():\n",
    "    nazwiska_koncowki = ['wski', 'czyk', 'osz', 'wicz', 'cki', 'nek', 'wicz', 'czek', 'pek']\n",
    "    imiona_koncowki = ['sław', 'der', 'usz', 'dan', 'tosz', 'ran', 'szek', 'an', 'asz', 'man', 'ław']\n",
    "    nazwisko = input('Jaki jest twój ulubiony kolor?')\n",
    "    imie = input('Jakie jest twoje ulubione danie?')\n",
    "    nazwisko = nazwisko[:-2] + nazwiska_koncowki[random.randrange(0, len(nazwiska_koncowki),1)]\n",
    "    imie += imiona_koncowki[random.randrange(0, len(imiona_koncowki),1)]\n",
    "\n",
    "    return ('Nazywasz się: '+  imie.capitalize() + \" \"+ nazwisko.capitalize())\n",
    "    \n",
    "print(generator())"
   ]
  },
  {
   "cell_type": "markdown",
   "id": "39426411-a689-406e-8f37-32000850b562",
   "metadata": {},
   "source": [
    "#### 9. Dwa ciągi znaków to anagramy, jeśli możesz utworzyć jeden z nich, przestawiając jedynie litery drugiego. Napisz fiunkcję IS_ANAGRAM, która jako parametry przyjmuje dwa łańcuchy. Twoja funkcja powinna zwrócić True, jeśli łańcuchy są anagramamami oraz False w przeciwnym razie."
   ]
  },
  {
   "cell_type": "code",
   "execution_count": 18,
   "id": "69d4eb86-da44-4d8e-817d-7b892cb31c17",
   "metadata": {},
   "outputs": [
    {
     "name": "stdout",
     "output_type": "stream",
     "text": [
      "False\n"
     ]
    }
   ],
   "source": [
    "def is_anagram(string1, string2):\n",
    "    wynik = False\n",
    "    if (sorted(string1.upper()) == sorted(string2.upper())):\n",
    "        wynik = True\n",
    "    return wynik\n",
    "\n",
    "print(is_anagram(\"abca\",\"cdba\"))"
   ]
  },
  {
   "cell_type": "markdown",
   "id": "3c54116b-32c0-46cf-9bdb-c73524b7acb4",
   "metadata": {},
   "source": [
    "#### 10. Zdefiniuj funkcję o nazwie largest_difference, która jako jedyny parametr przyjmuje listę liczb. Twoja funkcja powinna obliczyć i zwrócić różnicę między największą i najmniejszą liczbą na liście."
   ]
  },
  {
   "cell_type": "code",
   "execution_count": 19,
   "id": "9d01a3aa-9076-4557-876f-7595f36e7075",
   "metadata": {},
   "outputs": [
    {
     "name": "stdout",
     "output_type": "stream",
     "text": [
      "60\n"
     ]
    }
   ],
   "source": [
    "def largest_difference(lista): \n",
    "    return (max(lista) - min(lista))\n",
    "\n",
    "print(largest_difference([10,50,70]))"
   ]
  },
  {
   "cell_type": "markdown",
   "id": "a6054826-06c6-4695-9498-a3127ae6e98e",
   "metadata": {},
   "source": [
    "#### 11. Napsiz funkcję o nazwie add_dots, która pobiera ciąg i dodaje \".\" pomiędzy każdą literą. Na przykład wywołanie add_dots(\"test\") powinno zwrócić ciąg \"t.e.s.t\"."
   ]
  },
  {
   "cell_type": "code",
   "execution_count": 3,
   "id": "e8d80702-4844-4038-9c74-c941801a0950",
   "metadata": {},
   "outputs": [
    {
     "name": "stdout",
     "output_type": "stream",
     "text": [
      "t.e.s.t\n"
     ]
    }
   ],
   "source": [
    "def add_dots(string):\n",
    "    if (len(string) > 0):\n",
    "        result = ''\n",
    "        for i in range(len(string)-1):\n",
    "            result+=string[i]+'.'\n",
    "        result+=string[-1]\n",
    "        return result\n",
    "    else:\n",
    "        return ('Podaj ciąg znaków')\n",
    "    \n",
    "print(add_dots('test'))"
   ]
  },
  {
   "cell_type": "markdown",
   "id": "a635010d-13a8-44a3-92b6-4c17728be0c6",
   "metadata": {},
   "source": [
    "#### 12. Wyrażenie jest palindromem, gdy jest identyczne, będąc czytanym od tyłu. Napisz funkcję is_palindrome, która jako parametr przyjmie ciąg znaków. Twoja funkcja powinna zwrócić True, jeśli ciąg jest palindromem oraz False w przeciwnym razie."
   ]
  },
  {
   "cell_type": "code",
   "execution_count": 80,
   "id": "6ac4030a-38c1-47c9-8c78-bf88752b09d6",
   "metadata": {},
   "outputs": [
    {
     "name": "stdout",
     "output_type": "stream",
     "text": [
      "True\n"
     ]
    }
   ],
   "source": [
    "def is_palindrome(string):\n",
    "    wynik = True\n",
    "    for i in range(len(string)):\n",
    "        if string[i].lower()!=string[-i-1].lower():\n",
    "            wynik = False\n",
    "    return wynik\n",
    "\n",
    "print(is_palindrome('Anna'))"
   ]
  },
  {
   "cell_type": "markdown",
   "id": "77176d3e-61f1-4856-93c3-2c2fbdd26653",
   "metadata": {},
   "source": [
    "#### 13. Zdefiniuj funkcję calculate_factorial obliczającą silnię dla liczby podanej przez użytwkonika (będącej nieujemną liczbą całkowitą)."
   ]
  },
  {
   "cell_type": "code",
   "execution_count": 18,
   "id": "27cbdce7-4566-46d1-b55f-60f92520bb74",
   "metadata": {},
   "outputs": [
    {
     "name": "stdout",
     "output_type": "stream",
     "text": [
      "1307674368000\n"
     ]
    }
   ],
   "source": [
    "def calculate_factorial(integer):\n",
    "    if integer<0 or integer != int(integer):\n",
    "        return \"Podaj nieujemną liczbę całkowitą\"\n",
    "    else:\n",
    "        silnia = 1\n",
    "        wynik = 1\n",
    "        while(silnia-1 < integer):\n",
    "            wynik *= (silnia)\n",
    "            silnia += 1\n",
    "        return wynik\n",
    "    \n",
    "print(calculate_factorial(15)) "
   ]
  },
  {
   "cell_type": "markdown",
   "id": "d09a6134-c34d-4ebf-a972-aac86bef7b66",
   "metadata": {},
   "source": [
    "#### 14. Zdefiniuj funkcję o nazwie all_equal, która pobiera listę i sprawdza, czy wszystkie elementy na liście są takie same. Na przykład wywołanie all_equal([1,1,1]) powinno zwrócić True."
   ]
  },
  {
   "cell_type": "code",
   "execution_count": 81,
   "id": "93fff75f-77e3-40eb-a53d-d8a9d96eefa9",
   "metadata": {
    "tags": []
   },
   "outputs": [],
   "source": [
    "def all_equal(lista):\n",
    "    for i in range(len(lista)):\n",
    "        if lista[i]==lista[i-1]:\n",
    "            wynik = True\n",
    "        else:\n",
    "            return False\n",
    "    return wynik\n",
    "\n",
    "print(all_equal([0,0,0]))"
   ]
  },
  {
   "cell_type": "markdown",
   "id": "c87b7ecf-152c-493a-8568-270aa51280e8",
   "metadata": {},
   "source": [
    "#### 15. Napisz program move_zero, który wypycha wszystkie zera na koniec listy."
   ]
  },
  {
   "cell_type": "code",
   "execution_count": 6,
   "id": "788ef6af-69c4-4201-a9b3-f5f5a2c1c52c",
   "metadata": {},
   "outputs": [],
   "source": [
    "def move_zero(lista):\n",
    "    for i in range(len(lista)):\n",
    "        if lista[i]==0:\n",
    "            del lista[i]\n",
    "            lista.append(0)\n",
    "    return(lista)\n",
    "                   "
   ]
  },
  {
   "cell_type": "code",
   "execution_count": 7,
   "id": "00dcb20a-13ee-4d28-81b1-1d505ee654c3",
   "metadata": {},
   "outputs": [
    {
     "data": {
      "text/plain": [
       "[1, 2, 4, -6, 7, 9, 4, -5, 0, 0, 0, 0]"
      ]
     },
     "execution_count": 7,
     "metadata": {},
     "output_type": "execute_result"
    }
   ],
   "source": [
    "move_zero([1,2,4,0,-6,0,7,9,0,4,-5,0])"
   ]
  },
  {
   "cell_type": "markdown",
   "id": "99c82bb3-b670-4954-a4f7-6595bc563084",
   "metadata": {},
   "source": [
    "#### 16. Napisz funkcję perfectly_balanced, która mając string zawierający tylko znaki x i y, sprawdzi czy liczba znaków x i y jest taka sama."
   ]
  },
  {
   "cell_type": "code",
   "execution_count": 8,
   "id": "85a47fd4-660c-4ec8-9d87-8e8d2af1747f",
   "metadata": {},
   "outputs": [],
   "source": [
    "def perfectly_balanced(string):\n",
    "    for i in range(len(string)):\n",
    "        count_x=0\n",
    "        count_y=0\n",
    "        if(string[i]=='x'):\n",
    "            count_x += 1\n",
    "        elif(string[i]=='y'):\n",
    "            count_y +=1\n",
    "        else:\n",
    "            return 'podałeś zły argument'\n",
    "    if count_x == count_y:\n",
    "        return 'liczba znaków x i y jest taka sama'\n",
    "    else:\n",
    "        return 'liczba znaków x i y jest różna'"
   ]
  },
  {
   "cell_type": "code",
   "execution_count": 18,
   "id": "20227919-54de-4924-bbc9-6bbc86934a94",
   "metadata": {},
   "outputs": [
    {
     "data": {
      "text/plain": [
       "'liczba znaków x i y jest różna'"
      ]
     },
     "execution_count": 18,
     "metadata": {},
     "output_type": "execute_result"
    }
   ],
   "source": [
    "perfectly_balanced('xxxxxxxxxxxxxxxxxxxxxxyy')"
   ]
  },
  {
   "cell_type": "markdown",
   "id": "d9827101-b702-4766-8c5c-e54976628eb3",
   "metadata": {},
   "source": [
    "#### 17. Napisz funkcję is_ugly, która sprawdzi, czy podana liczba jest brzydką liczbą (ang. ugly numbers). Brzydkie liczby to te liczby, których czynniki pierwsze to 2, 3 lub 5."
   ]
  },
  {
   "cell_type": "code",
   "execution_count": 23,
   "id": "3316dc6f-6497-4614-b8e9-e5cb77a4fc46",
   "metadata": {},
   "outputs": [],
   "source": [
    "def is_ugly(number):\n",
    "    result = False\n",
    "    if number>=1:\n",
    "        for x in [2,3,5]:\n",
    "            while (number%x==0):\n",
    "                number/=x\n",
    "        if number == 1:\n",
    "            return True\n",
    "    return result"
   ]
  },
  {
   "cell_type": "code",
   "execution_count": 25,
   "id": "526f8337-294e-42f3-815c-ef971271bbe9",
   "metadata": {},
   "outputs": [
    {
     "name": "stdout",
     "output_type": "stream",
     "text": [
      "[1, 2, 3, 4, 5, 6, 8, 9, 10, 12, 15, 16, 18, 20, 24, 25, 27, 30, 32, 36, 40, 45, 48, 50, 54, 60, 64, 72, 75, 80, 81, 90, 96, 100, 108, 120, 125, 128, 135, 144, 150, 160, 162, 180, 192, 200, 216, 225, 240, 243, 250, 256, 270, 288, 300, 320, 324, 360, 375, 384, 400, 405, 432, 450, 480, 486, 500, 512, 540, 576, 600, 625, 640, 648, 675, 720, 729, 750, 768, 800, 810, 864, 900, 960, 972]\n"
     ]
    }
   ],
   "source": [
    "lista = []\n",
    "isornot = []\n",
    "for i in range(1000):\n",
    "    lista.append(i)\n",
    "    isornot.append(is_ugly(i))\n",
    "result=[]\n",
    "for i in range(len(lista)):\n",
    "    if isornot[i]==True:\n",
    "        result.append(lista[i])\n",
    "print(result)"
   ]
  },
  {
   "cell_type": "markdown",
   "id": "9edb0599-5794-4c60-b62b-c589931ee165",
   "metadata": {},
   "source": [
    "#### 18. Napisz funkcję is_geometric, która sprawdzi czy podana przez użytkownika sekwencja liczb jest ciągiem geometrycznym."
   ]
  },
  {
   "cell_type": "code",
   "execution_count": 46,
   "id": "56cb6584-ae95-4424-a26e-9989e7ca5114",
   "metadata": {},
   "outputs": [
    {
     "name": "stdout",
     "output_type": "stream",
     "text": [
      "True\n"
     ]
    }
   ],
   "source": [
    "def is_geometric(lista):\n",
    "    wynik = True\n",
    "    for i in range(len(lista)-2):\n",
    "        if lista[i+1]*lista[i+1]!=lista[i+2]*lista[i]:\n",
    "            return False\n",
    "    return wynik\n",
    "\n",
    "print(is_geometric([1,3,9,27,81])) "
   ]
  },
  {
   "cell_type": "markdown",
   "id": "0f1c309c-c832-4a12-91cb-43f2fc7df407",
   "metadata": {},
   "source": [
    "#### 19. Napisz funkcję, która zwróci ciąg Fibonacciego aż do n-tego wyrazu podanego przez użytkownika. Przyjmujemy, że 0 wchodzi w skład ciągu."
   ]
  },
  {
   "cell_type": "code",
   "execution_count": 58,
   "id": "b06a0e81-3e39-499a-9119-c8b6476fcd86",
   "metadata": {},
   "outputs": [
    {
     "name": "stdout",
     "output_type": "stream",
     "text": [
      "[0, 1, 1, 2, 3, 5, 8, 13, 21, 34, 55, 89, 144, 233, 377, 610, 987, 1597, 2584, 4181]\n"
     ]
    }
   ],
   "source": [
    "def fibonacci(n):\n",
    "    if n == 0:\n",
    "        result = [0]\n",
    "    if n == 1:\n",
    "        result = [0,1]\n",
    "    result=[0,1]\n",
    "    for i in range(n-2):\n",
    "        result.append(result[i]+result[i+1])\n",
    "    return result\n",
    "\n",
    "print(fibonacci(20)) "
   ]
  },
  {
   "cell_type": "code",
   "execution_count": null,
   "id": "7b9f02e8-5fca-4e5a-ba76-19bc7aab1d20",
   "metadata": {},
   "outputs": [],
   "source": []
  }
 ],
 "metadata": {
  "kernelspec": {
   "display_name": "Python 3 (ipykernel)",
   "language": "python",
   "name": "python3"
  },
  "language_info": {
   "codemirror_mode": {
    "name": "ipython",
    "version": 3
   },
   "file_extension": ".py",
   "mimetype": "text/x-python",
   "name": "python",
   "nbconvert_exporter": "python",
   "pygments_lexer": "ipython3",
   "version": "3.9.7"
  }
 },
 "nbformat": 4,
 "nbformat_minor": 5
}
