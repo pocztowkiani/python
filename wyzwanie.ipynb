{
 "cells": [
  {
   "cell_type": "markdown",
   "id": "69ed9812-d33f-4c76-9077-7d86bae9bfe9",
   "metadata": {},
   "source": [
    "#### 1. Przygotuj funkcję LOWERCASE, która jako argument przyjmie łancuch znaków (string) róznej wielkości i zwróci go napisanego w całości małymi literami."
   ]
  },
  {
   "cell_type": "code",
   "execution_count": 16,
   "id": "d9a33f20-c966-4780-b34a-9a4c00f096a5",
   "metadata": {},
   "outputs": [
    {
     "name": "stdin",
     "output_type": "stream",
     "text": [
      "Podaj łańcuch znaków aSAa\n"
     ]
    },
    {
     "name": "stdout",
     "output_type": "stream",
     "text": [
      "asaa\n"
     ]
    }
   ],
   "source": [
    "def LOWERCASE():\n",
    "    x = input('Podaj łańcuch znaków')\n",
    "    return x.lower()\n",
    "\n",
    "print(LOWERCASE())"
   ]
  },
  {
   "cell_type": "markdown",
   "id": "af83756a-b096-4870-8463-e48874470e66",
   "metadata": {},
   "source": [
    "#### 2. Przygotuj funkcje SWITCH_CASE, która przyjmując jako argument ciąg znaków, zwróci jego małe litery w postaci wielkich, a wielkie w postaci małych. Zignoruj interpunkcję i inne znaki."
   ]
  },
  {
   "cell_type": "code",
   "execution_count": 51,
   "id": "4d3890d2-9311-4181-b30c-62faaa8dc9c2",
   "metadata": {},
   "outputs": [
    {
     "name": "stdin",
     "output_type": "stream",
     "text": [
      "Podaj łancuch znaków AbCdE!!-@,*\n"
     ]
    },
    {
     "name": "stdout",
     "output_type": "stream",
     "text": [
      "aBcDe!!-@,*\n"
     ]
    }
   ],
   "source": [
    "def SWITCH_CASE():\n",
    "    x = input('Podaj łancuch znaków') \n",
    "    for i in range(len(x)):\n",
    "        if x[i]==x.upper()[i]:\n",
    "            x=x.replace(x[i],x.lower()[i])\n",
    "        else:\n",
    "            x=x.replace(x[i],x.upper()[i])\n",
    "    return x\n",
    "\n",
    "print(SWITCH_CASE())"
   ]
  },
  {
   "cell_type": "markdown",
   "id": "2d20bfe8-fba7-4b71-8bcd-48eac2e9ccc6",
   "metadata": {},
   "source": [
    "#### 3. Przygotuj funkcję REVERSE_STRING, która zwróci ciąg w odwrotnej kolejności."
   ]
  },
  {
   "cell_type": "code",
   "execution_count": 17,
   "id": "0f68894c-ed75-41f1-a8be-518eb2f958c2",
   "metadata": {},
   "outputs": [
    {
     "name": "stdout",
     "output_type": "stream",
     "text": [
      "Szybka piłka!\n"
     ]
    }
   ],
   "source": [
    "x = '!akłip akbyzS'\n",
    "\n",
    "def REVERSE_STRING(x):\n",
    "    return x[::-1]\n",
    "\n",
    "print(REVERSE_STRING(x))"
   ]
  },
  {
   "cell_type": "markdown",
   "id": "fdd6df98-957b-46ae-bb78-40b4c67d0305",
   "metadata": {},
   "source": [
    "#### 4.Stwórz funkcję GERUND_INFINITIVE, która do otrzymanego czasownika zwraca bezokolicznik z przedrostkiem  \"to\" (np. doing -> to do). Jeśli słowo nie końćzy się na \"ing\", zwróć \"To nie jest rzeczownik odsłowny!\""
   ]
  },
  {
   "cell_type": "code",
   "execution_count": 21,
   "id": "affa1e1a-f512-4f9d-a1f2-3832198ce7c2",
   "metadata": {},
   "outputs": [
    {
     "name": "stdout",
     "output_type": "stream",
     "text": [
      "to do\n"
     ]
    }
   ],
   "source": [
    "def GERUND_INFINITIVE(x):\n",
    "    if x[-3:] == 'ing':\n",
    "        return 'to '+ x[:-3]\n",
    "    else:\n",
    "        return(\"To nie jest rzeczownik odsłowny!\")\n",
    "    \n",
    "print(GERUND_INFINITIVE('doing'))  "
   ]
  },
  {
   "cell_type": "markdown",
   "id": "f5487497-a70a-4b64-8558-67c83196a800",
   "metadata": {},
   "source": [
    "#### 5. Stwórz funkcję CAPITAL_INDEXES, która przyjmuje ciąg znaków (string) jako jedyny argument. Twoja funkcja powinna zwracać listę indeksów w tym ciągu, które są napisane z wielkich liter."
   ]
  },
  {
   "cell_type": "code",
   "execution_count": 30,
   "id": "44c50832-19e0-4840-88c6-e697a8af3ed9",
   "metadata": {},
   "outputs": [
    {
     "name": "stdout",
     "output_type": "stream",
     "text": [
      "[0, 10]\n"
     ]
    }
   ],
   "source": [
    "def CAPITAL_INDEXES(string):\n",
    "    lista = []\n",
    "    for i in range(len(string)):\n",
    "        if (string[i]==string.upper()[i]) and (string.upper()[i]!=string.lower()[i]):\n",
    "            lista.append(i) \n",
    "    return lista\n",
    "            \n",
    "print(CAPITAL_INDEXES(\"Pocztówki Ani\"))    "
   ]
  },
  {
   "cell_type": "markdown",
   "id": "56b656c1-f3d1-448d-9c4c-6cd7764ad293",
   "metadata": {},
   "source": [
    "### 6. Przygotuj funckję WOMENSDAY, która spyta użytkownika o imię. Jeśli będzie się ono kończyło na \"a\", złoży użytkownikowi życzenia na Dzień Kobiet. W przeciwnym razie, wykona inną czynnność."
   ]
  },
  {
   "cell_type": "code",
   "execution_count": 11,
   "id": "46edc268-1152-4114-aaa9-1936a6e80682",
   "metadata": {},
   "outputs": [
    {
     "name": "stdin",
     "output_type": "stream",
     "text": [
      "Jak masz na imię? kot\n"
     ]
    },
    {
     "name": "stdout",
     "output_type": "stream",
     "text": [
      "Dzień mężczyzny już za 2 dni\n"
     ]
    }
   ],
   "source": [
    "def WOMENSDAY():\n",
    "    imie = input(\"Jak masz na imię?\")\n",
    "    if imie[-1:] == 'a':\n",
    "        return(\"Wszystkiego najlepszego z okazji Dnia Kobiet\")\n",
    "    else:\n",
    "        return(\"Dzień mężczyzny już za 2 dni\")\n",
    "\n",
    "print(WOMENSDAY())"
   ]
  },
  {
   "cell_type": "code",
   "execution_count": null,
   "id": "50d64026-40f0-4e82-a0d0-526837bea34f",
   "metadata": {},
   "outputs": [],
   "source": []
  },
  {
   "cell_type": "code",
   "execution_count": null,
   "id": "1f3c477f-4cf1-4243-885d-09265ffb9270",
   "metadata": {},
   "outputs": [],
   "source": []
  }
 ],
 "metadata": {
  "kernelspec": {
   "display_name": "Python 3 (ipykernel)",
   "language": "python",
   "name": "python3"
  },
  "language_info": {
   "codemirror_mode": {
    "name": "ipython",
    "version": 3
   },
   "file_extension": ".py",
   "mimetype": "text/x-python",
   "name": "python",
   "nbconvert_exporter": "python",
   "pygments_lexer": "ipython3",
   "version": "3.9.7"
  }
 },
 "nbformat": 4,
 "nbformat_minor": 5
}
