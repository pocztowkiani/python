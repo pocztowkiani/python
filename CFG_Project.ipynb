{
 "cells": [
  {
   "cell_type": "markdown",
   "id": "9664de03-1c74-41e8-8d5f-06501dca48fa",
   "metadata": {},
   "source": [
    "### Reading the data from the file sales.csv\n",
    "#### Creating four variables (lists): years, months, sales_all, expenditures."
   ]
  },
  {
   "cell_type": "code",
   "execution_count": 133,
   "id": "f87561a2-6470-4005-a806-2f8795459df0",
   "metadata": {},
   "outputs": [],
   "source": [
    "import csv\n",
    "with open('sales.csv', 'r') as csv_file:\n",
    "    spreadsheet = csv.DictReader(csv_file)\n",
    "    years = []\n",
    "    months = []\n",
    "    sales_all = []\n",
    "    expenditures = []\n",
    "    for row in spreadsheet:\n",
    "        sales_year = row['year']\n",
    "        years.append(sales_year)\n",
    "        sales_month = row['month']\n",
    "        months.append(sales_month)\n",
    "        sales_sales = row['sales']\n",
    "        sales_all.append(int(sales_sales))\n",
    "        sales_expenditures = row['expenditure']\n",
    "        expenditures.append(int(sales_expenditures))"
   ]
  },
  {
   "cell_type": "markdown",
   "id": "a7ad015a-3d30-41fe-a6b3-45b00787970c",
   "metadata": {},
   "source": [
    "### Let's see the data."
   ]
  },
  {
   "cell_type": "code",
   "execution_count": 3,
   "id": "652f7e0f-a27e-4d24-9f7c-cb5ebd862265",
   "metadata": {},
   "outputs": [
    {
     "name": "stdout",
     "output_type": "stream",
     "text": [
      "['2018', '2018', '2018', '2018', '2018', '2018', '2018', '2018', '2018', '2018', '2018', '2018'] ['jan', 'feb', 'mar', 'apr', 'may', 'jun', 'jul', 'aug', 'sep', 'oct', 'nov', 'dec'] [6226, 1521, 1842, 2051, 1728, 2138, 7479, 4434, 3615, 5472, 7224, 1812] [3808, 3373, 3965, 1098, 3046, 2258, 2084, 2799, 1649, 1116, 1431, 3532]\n"
     ]
    }
   ],
   "source": [
    "print(years, months, sales_all, expenditures)"
   ]
  },
  {
   "cell_type": "markdown",
   "id": "eee3ab76-b62e-4e7f-a7b5-186e33d6d1c0",
   "metadata": {},
   "source": [
    "##### We wanted to see the data with more readable way."
   ]
  },
  {
   "cell_type": "code",
   "execution_count": 5,
   "id": "2aaeec2f-9870-4628-8bf2-97469fdaf6e2",
   "metadata": {},
   "outputs": [
    {
     "name": "stdout",
     "output_type": "stream",
     "text": [
      "year month sales expenditures\n",
      "2018 jan 6226 3808\n",
      "2018 feb 1521 3373\n",
      "2018 mar 1842 3965\n",
      "2018 apr 2051 1098\n",
      "2018 may 1728 3046\n",
      "2018 jun 2138 2258\n",
      "2018 jul 7479 2084\n",
      "2018 aug 4434 2799\n",
      "2018 sep 3615 1649\n",
      "2018 oct 5472 1116\n",
      "2018 nov 7224 1431\n",
      "2018 dec 1812 3532\n"
     ]
    }
   ],
   "source": [
    "print(\"year month sales expenditures\")\n",
    "for i in range(len(years)):\n",
    "    print(years[i], months[i], sales_all[i], expenditures[i])"
   ]
  },
  {
   "cell_type": "markdown",
   "id": "2ab73c67-76c9-4ecd-a586-59a5e56c334c",
   "metadata": {},
   "source": [
    "### Tasks:\n",
    "#### -  Collect all of the sales from each month into a single list:"
   ]
  },
  {
   "cell_type": "code",
   "execution_count": 8,
   "id": "fb3ce1af-2d4f-44fc-bbfa-2a955cd43d87",
   "metadata": {},
   "outputs": [
    {
     "name": "stdout",
     "output_type": "stream",
     "text": [
      "All of the sales from each month:\n",
      "[6226, 1521, 1842, 2051, 1728, 2138, 7479, 4434, 3615, 5472, 7224, 1812]\n"
     ]
    }
   ],
   "source": [
    "print(\"All of the sales from each month:\")\n",
    "print(sales_all)"
   ]
  },
  {
   "cell_type": "markdown",
   "id": "91b6760e-a7d9-4828-884c-42ea8948431f",
   "metadata": {},
   "source": [
    "##### And we prepapared altenative version, which is more eye-friendly."
   ]
  },
  {
   "cell_type": "code",
   "execution_count": 12,
   "id": "d0c94755-f971-40ee-bc18-8ec5681b28e6",
   "metadata": {},
   "outputs": [
    {
     "name": "stdout",
     "output_type": "stream",
     "text": [
      "The sales in jan was: 6226.\n",
      "The sales in feb was: 1521.\n",
      "The sales in mar was: 1842.\n",
      "The sales in apr was: 2051.\n",
      "The sales in may was: 1728.\n",
      "The sales in jun was: 2138.\n",
      "The sales in jul was: 7479.\n",
      "The sales in aug was: 4434.\n",
      "The sales in sep was: 3615.\n",
      "The sales in oct was: 5472.\n",
      "The sales in nov was: 7224.\n",
      "The sales in dec was: 1812.\n"
     ]
    }
   ],
   "source": [
    "for i in range(len(years)):\n",
    "    print('The sales in {} was: {}.'.format(months[i], sales_all[i]))"
   ]
  },
  {
   "cell_type": "markdown",
   "id": "e23f1bc9-b436-4e56-bc25-de2f6c0aaa2e",
   "metadata": {},
   "source": [
    "#### - Output the total sales across all months."
   ]
  },
  {
   "cell_type": "code",
   "execution_count": 14,
   "id": "edea4894-a57c-4dff-b736-31eb61dc5fe2",
   "metadata": {},
   "outputs": [
    {
     "name": "stdout",
     "output_type": "stream",
     "text": [
      "The total sales across all months is 45542.\n"
     ]
    }
   ],
   "source": [
    "total_sales_all=0\n",
    "for i in range(len(sales_all)):\n",
    "    total_sales_all += (sales_all[i])\n",
    "print(\"The total sales across all months are {}.\".format(total_sales_all))"
   ]
  },
  {
   "cell_type": "markdown",
   "id": "107b34cb-f6ad-4ee9-b124-28bd5884be99",
   "metadata": {},
   "source": [
    "##### And what about the expenditures?"
   ]
  },
  {
   "cell_type": "code",
   "execution_count": 20,
   "id": "c2117e5f-1982-452f-abb5-1d6da062e20d",
   "metadata": {},
   "outputs": [
    {
     "name": "stdout",
     "output_type": "stream",
     "text": [
      "The total expenditures across all months are 30159.\n"
     ]
    }
   ],
   "source": [
    "total_expenditures=0\n",
    "for i in range(len(expenditures)):\n",
    "    total_expenditures += (expenditures[i])\n",
    "print(\"The total expenditures across all months are {}.\".format(total_expenditures))"
   ]
  },
  {
   "cell_type": "markdown",
   "id": "23fb2d0c-06e8-48b0-b2ca-8ab3e50c0467",
   "metadata": {},
   "source": [
    "##### So, did we gain?"
   ]
  },
  {
   "cell_type": "code",
   "execution_count": 25,
   "id": "8c48944a-bce9-447d-a9d0-0606dea768fe",
   "metadata": {},
   "outputs": [
    {
     "name": "stdout",
     "output_type": "stream",
     "text": [
      "Yes, we gained. The profit is 15383.\n"
     ]
    }
   ],
   "source": [
    "if (total_sales_all>total_expenditures):\n",
    "    print(\"Yes, we gained. The profit is {}.\".format(total_sales_all-total_expenditures))\n",
    "elif (total_sales_all<total_expenditures):\n",
    "    print(\"No, we lost. The lost is {}.format\".format(total_expenditures-total_sales_all))\n",
    "else:\n",
    "    print(\"We are at zero. We spend all what we've earned.\") "
   ]
  },
  {
   "cell_type": "markdown",
   "id": "fdb37aee-7f06-4bb4-965e-ed036fbc6715",
   "metadata": {},
   "source": [
    "##### And how it was during the year?"
   ]
  },
  {
   "cell_type": "code",
   "execution_count": 26,
   "id": "dde8ace0-9574-4d3b-9fbf-2630f6c31417",
   "metadata": {},
   "outputs": [
    {
     "name": "stdout",
     "output_type": "stream",
     "text": [
      "Profit = sales - expenditures\n",
      "The profit for jan 2018 was 2418.\n",
      "The profit for feb 2018 was -1852.\n",
      "The profit for mar 2018 was -2123.\n",
      "The profit for apr 2018 was 953.\n",
      "The profit for may 2018 was -1318.\n",
      "The profit for jun 2018 was -120.\n",
      "The profit for jul 2018 was 5395.\n",
      "The profit for aug 2018 was 1635.\n",
      "The profit for sep 2018 was 1966.\n",
      "The profit for oct 2018 was 4356.\n",
      "The profit for nov 2018 was 5793.\n",
      "The profit for dec 2018 was -1720.\n"
     ]
    }
   ],
   "source": [
    "print(\"Profit = sales - expenditures\")\n",
    "\n",
    "profit = []\n",
    "for i in range(len(sales_all)):\n",
    "    profit.append(int(sales_all[i]) - int(expenditures[i]))\n",
    "    print('The profit for {} {} was {}.'.format(months[i], years[i], profit[i]))"
   ]
  },
  {
   "cell_type": "markdown",
   "id": "579c43ba-2c44-4e82-a65c-cf077318fbbf",
   "metadata": {},
   "source": [
    "##### Maximum:"
   ]
  },
  {
   "cell_type": "code",
   "execution_count": 28,
   "id": "cdcc4879-dbe8-4dec-8b54-e2fa25d2fe3d",
   "metadata": {},
   "outputs": [
    {
     "name": "stdout",
     "output_type": "stream",
     "text": [
      "The maximum profit was in nov 2018 and amounts to 5793.\n"
     ]
    }
   ],
   "source": [
    "max_profit = max(profit)\n",
    "index_max_profit = profit.index(max_profit)\n",
    "month_max_profit = months[index_max_profit]\n",
    "year_max_profit = years[index_max_profit]\n",
    "print( \"The maximum profit was in {} {} and amounts to {}.\".format(month_max_profit, year_max_profit, max_profit))"
   ]
  },
  {
   "cell_type": "markdown",
   "id": "3d27a05e-c846-4e66-8000-93264d3ae456",
   "metadata": {},
   "source": [
    "##### Minimum"
   ]
  },
  {
   "cell_type": "code",
   "execution_count": 30,
   "id": "a4c5fe36-0dee-4ee9-ad6f-fd7806eaa742",
   "metadata": {},
   "outputs": [
    {
     "name": "stdout",
     "output_type": "stream",
     "text": [
      "The minimum profit was in mar 2018 and amounts to -2123.\n"
     ]
    }
   ],
   "source": [
    "min_profit = min(profit)\n",
    "index_min_profit = profit.index(min_profit)\n",
    "month_min_profit = months[index_min_profit]\n",
    "year_min_profit = years[index_min_profit]\n",
    "print( \"The minimum profit was in {} {} and amounts to {}.\".format(month_min_profit, year_min_profit, min_profit))"
   ]
  },
  {
   "cell_type": "markdown",
   "id": "f172a779-5f59-4b11-9bb4-0155e05162ef",
   "metadata": {},
   "source": [
    "#### And what is the average?\n",
    "#### Let's prepare a function to count this:"
   ]
  },
  {
   "cell_type": "code",
   "execution_count": 32,
   "id": "d094a3f5-ee47-4ddd-b93f-bde16a56be83",
   "metadata": {},
   "outputs": [],
   "source": [
    "def average(list):\n",
    "    total_list = 0\n",
    "    for i in range(len(list)):\n",
    "        total_list += list[i]\n",
    "    average_list = round(total_list / len(list),2)\n",
    "    return average_list"
   ]
  },
  {
   "cell_type": "code",
   "execution_count": 33,
   "id": "c7f4510f-a479-405c-98d5-5a5b89c3acfc",
   "metadata": {},
   "outputs": [
    {
     "name": "stdout",
     "output_type": "stream",
     "text": [
      "The average of expenditures is 2513.25.\n"
     ]
    }
   ],
   "source": [
    "print(\"The average of expenditures is {}.\".format(average(expenditures)))"
   ]
  },
  {
   "cell_type": "code",
   "execution_count": 44,
   "id": "dc338eb3-4e63-46c1-a246-6ac6e00e4149",
   "metadata": {},
   "outputs": [
    {
     "data": {
      "image/png": "[encoded data removed]",
      "text/plain": [
       "<Figure size 432x288 with 1 Axes>"
      ]
     },
     "metadata": {
      "needs_background": "light"
     },
     "output_type": "display_data"
    }
   ],
   "source": [
    "import matplotlib.pyplot as plt\n",
    "fig = plt.figure()\n",
    "ax = fig.add_axes([0,0,1,1])\n",
    "plt.title('Profit in 2018', size=16)\n",
    "ax.bar(months,profit)\n",
    "plt.show()"
   ]
  },
  {
   "cell_type": "markdown",
   "id": "1bb35aa9-8957-4e71-9f5b-e8e129ccfbf5",
   "metadata": {},
   "source": [
    "##### As we can see the second part of the year was better. "
   ]
  },
  {
   "cell_type": "markdown",
   "id": "56d53e8b-a99f-4b35-b1da-769ad1e11590",
   "metadata": {},
   "source": [
    "### Let's see close to the sales data "
   ]
  },
  {
   "cell_type": "markdown",
   "id": "ce2e626f-ae6f-4d76-b814-6bc4a08326ad",
   "metadata": {},
   "source": [
    "#### Maximum"
   ]
  },
  {
   "cell_type": "code",
   "execution_count": 72,
   "id": "ddcc0bc3-e3fa-4751-a0c7-2996a0340c7a",
   "metadata": {},
   "outputs": [
    {
     "name": "stdout",
     "output_type": "stream",
     "text": [
      "The maximum of sales was in jul 2018 and amounts to 7479.\n"
     ]
    }
   ],
   "source": [
    "max_sales_all = max(sales_all)\n",
    "index_max_sales_all = sales_all.index(max_sales_all)\n",
    "month_max_sales_all = months[index_max_sales_all]\n",
    "year_max_sales_all = years[index_max_sales_all]\n",
    "print( \"The maximum of sales was in {} {} and amounts to {}.\".format(month_max_sales_all, year_max_sales_all, max_sales_all))"
   ]
  },
  {
   "cell_type": "markdown",
   "id": "b1cba640-7b3f-4564-80e7-770b99b03513",
   "metadata": {},
   "source": [
    "#### Minimum "
   ]
  },
  {
   "cell_type": "code",
   "execution_count": 74,
   "id": "6fbbaabd-9963-480c-9774-7e58810d5cbd",
   "metadata": {},
   "outputs": [
    {
     "name": "stdout",
     "output_type": "stream",
     "text": [
      "The minimum of sales was in feb 2018 and amounts to 1521.\n"
     ]
    }
   ],
   "source": [
    "min_sales_all = min(sales_all)\n",
    "index_min_sales_all = sales_all.index(min_sales_all)\n",
    "month_min_sales_all = months[index_min_sales_all]\n",
    "year_min_sales_all = years[index_min_sales_all]\n",
    "print( \"The minimum of sales was in {} {} and amounts to {}.\".format(month_min_sales_all, year_min_sales_all, min_sales_all))"
   ]
  },
  {
   "cell_type": "markdown",
   "id": "a82b7a6a-c8bb-4802-b1a4-89d4f2c83493",
   "metadata": {},
   "source": [
    "#### Average"
   ]
  },
  {
   "cell_type": "code",
   "execution_count": 77,
   "id": "620f9b8a-24f0-4b07-ba9e-5126a85c04a2",
   "metadata": {},
   "outputs": [
    {
     "name": "stdout",
     "output_type": "stream",
     "text": [
      "The average sales is 3795.17.\n"
     ]
    }
   ],
   "source": [
    "average_sales_all = total_sales_all / len(sales_all)\n",
    "print( \"The average sales is {}.\".format(round(average_sales_all,2)))"
   ]
  },
  {
   "cell_type": "markdown",
   "id": "3d0c55b8-90bc-4d85-aa97-88a81c3fd0b0",
   "metadata": {},
   "source": [
    "#### Let's see how it looks:"
   ]
  },
  {
   "cell_type": "code",
   "execution_count": 79,
   "id": "84f387e3-2349-4678-9fdb-e2d746a7f9b1",
   "metadata": {},
   "outputs": [
    {
     "data": {
      "image/png": "[encoded data removed]",
      "text/plain": [
       "<Figure size 432x288 with 1 Axes>"
      ]
     },
     "metadata": {
      "needs_background": "light"
     },
     "output_type": "display_data"
    }
   ],
   "source": [
    "import matplotlib.pyplot as plt\n",
    "fig = plt.figure()\n",
    "ax = fig.add_axes([0,0,1,1])\n",
    "ax.bar(months,sales_all)\n",
    "plt.title('Sales in 2018', size = 16)\n",
    "plt.show()"
   ]
  },
  {
   "cell_type": "markdown",
   "id": "c8671828-140c-4323-9eda-120bf819e93d",
   "metadata": {},
   "source": [
    "#### Monthly changes as a percentage - sales"
   ]
  },
  {
   "cell_type": "code",
   "execution_count": 135,
   "id": "e62ab761-08cd-4640-9b43-fb54ecd66851",
   "metadata": {},
   "outputs": [
    {
     "name": "stdout",
     "output_type": "stream",
     "text": [
      "The sales changes in feb according to jan in -76%.\n",
      "The sales changes in mar according to feb in 21%.\n",
      "The sales changes in apr according to mar in 11%.\n",
      "The sales changes in may according to apr in -16%.\n",
      "The sales changes in jun according to may in 24%.\n",
      "The sales changes in jul according to jun in 250%.\n",
      "The sales changes in aug according to jul in -41%.\n",
      "The sales changes in sep according to aug in -18%.\n",
      "The sales changes in oct according to sep in 51%.\n",
      "The sales changes in nov according to oct in 32%.\n",
      "The sales changes in dec according to nov in -75%.\n"
     ]
    }
   ],
   "source": [
    "changes = []\n",
    "for i in range(len(sales_all)-1):\n",
    "    changes.append (round((sales_all[i+1]-sales_all[i])/(sales_all[i])*100))\n",
    "    print(\"The sales changes in {} according to {} in {}%.\".format(months[i+1], months[i] ,changes[i]))"
   ]
  },
  {
   "cell_type": "markdown",
   "id": "d8e95ab6-7fc3-4051-ad78-4e32acaf79cd",
   "metadata": {},
   "source": [
    "#### Let's see the graph: "
   ]
  },
  {
   "cell_type": "code",
   "execution_count": 132,
   "id": "9ea029a1-8baf-4f71-beb0-55964b6dc979",
   "metadata": {},
   "outputs": [
    {
     "data": {
      "image/png": "[encoded data removed]",
      "text/plain": [
       "<Figure size 432x288 with 1 Axes>"
      ]
     },
     "metadata": {
      "needs_background": "light"
     },
     "output_type": "display_data"
    }
   ],
   "source": [
    "plt.plot(changes)\n",
    "plt.title('Monthly changes as a percentage - sales')\n",
    "plt.xlabel(months[1:])\n",
    "plt.ylabel('Sales (% changes)')\n",
    "plt.show()"
   ]
  },
  {
   "cell_type": "markdown",
   "id": "d5350526-4d77-4073-9092-17f4ef7bcc42",
   "metadata": {},
   "source": [
    "#### Expenditures"
   ]
  },
  {
   "cell_type": "markdown",
   "id": "11d792a0-94af-47db-9703-c18e7eaf70d8",
   "metadata": {},
   "source": [
    "#### Maximum"
   ]
  },
  {
   "cell_type": "code",
   "execution_count": 90,
   "id": "555cdd73-52ad-4914-9c04-ef610df37f8a",
   "metadata": {},
   "outputs": [
    {
     "name": "stdout",
     "output_type": "stream",
     "text": [
      "The maximum of expenditures was in mar 2018 and amounts to 3965.\n"
     ]
    }
   ],
   "source": [
    "max_expenditures = max(expenditures)\n",
    "index_max_expenditures = expenditures.index(max_expenditures)\n",
    "month_max_expenditures = months[index_max_expenditures]\n",
    "year_max_expenditures = years[index_max_expenditures]\n",
    "print( \"The maximum of expenditures was in {} {} and amounts to {}.\".format(month_max_expenditures, year_max_expenditures, max_expenditures))\n"
   ]
  },
  {
   "cell_type": "markdown",
   "id": "e78e275e-16de-4a58-afd2-a6d95c88e751",
   "metadata": {},
   "source": [
    "#### Minimum"
   ]
  },
  {
   "cell_type": "code",
   "execution_count": 91,
   "id": "ad91e5bb-91db-4afe-a915-094d593413c9",
   "metadata": {},
   "outputs": [
    {
     "name": "stdout",
     "output_type": "stream",
     "text": [
      "The minimum of expenditures was in apr 2018 and amounts to 1098.\n"
     ]
    }
   ],
   "source": [
    "min_expenditures = min(expenditures)\n",
    "index_min_expenditures = expenditures.index(min_expenditures)\n",
    "month_min_expenditures = months[index_min_expenditures]\n",
    "year_min_expenditures = years[index_min_expenditures]\n",
    "print( \"The minimum of expenditures was in {} {} and amounts to {}.\".format(month_min_expenditures, year_min_expenditures, min_expenditures))"
   ]
  },
  {
   "cell_type": "markdown",
   "id": "ab27765c-0da4-4354-9716-cfe05986ba4f",
   "metadata": {},
   "source": [
    "#### Average - we used pre-defined function: average()"
   ]
  },
  {
   "cell_type": "code",
   "execution_count": 93,
   "id": "7e6a3880-d274-4c65-b3eb-f6dbf2f51399",
   "metadata": {},
   "outputs": [
    {
     "name": "stdout",
     "output_type": "stream",
     "text": [
      "The average of expenditures is 2513.25.\n"
     ]
    }
   ],
   "source": [
    "print(\"The average of expenditures is {}.\".format(average(expenditures)))"
   ]
  },
  {
   "cell_type": "markdown",
   "id": "fc0e2449-29ec-4e1e-a09a-65a42e43a4ba",
   "metadata": {},
   "source": [
    "#### Monthly changes as a percentage - expenditures"
   ]
  },
  {
   "cell_type": "code",
   "execution_count": 95,
   "id": "62b0aecf-33b4-4a40-97dd-9ecf3a47bae7",
   "metadata": {},
   "outputs": [
    {
     "name": "stdout",
     "output_type": "stream",
     "text": [
      "The expenditures changes in feb according to jan in -11%.\n",
      "The expenditures changes in mar according to feb in 18%.\n",
      "The expenditures changes in apr according to mar in -72%.\n",
      "The expenditures changes in may according to apr in 177%.\n",
      "The expenditures changes in jun according to may in -26%.\n",
      "The expenditures changes in jul according to jun in -8%.\n",
      "The expenditures changes in aug according to jul in 34%.\n",
      "The expenditures changes in sep according to aug in -41%.\n",
      "The expenditures changes in oct according to sep in -32%.\n",
      "The expenditures changes in nov according to oct in 28%.\n",
      "The expenditures changes in dec according to nov in 147%.\n"
     ]
    }
   ],
   "source": [
    "for i in range(len(expenditures)-1):\n",
    "    print(\"The expenditures changes in {} according to {} in {}%.\".format(months[i+1], months[i] ,round((expenditures[i+1]-expenditures[i])/(expenditures[i])*100)))"
   ]
  },
  {
   "cell_type": "code",
   "execution_count": 96,
   "id": "7ab94a5d-40f6-406c-8e6c-5c50684afabb",
   "metadata": {},
   "outputs": [
    {
     "data": {
      "image/png": "[encoded data removed]",
      "text/plain": [
       "<Figure size 432x288 with 1 Axes>"
      ]
     },
     "metadata": {
      "needs_background": "light"
     },
     "output_type": "display_data"
    }
   ],
   "source": [
    "import matplotlib.pyplot as plt\n",
    "fig = plt.figure()\n",
    "ax = fig.add_axes([0,0,1,1])\n",
    "plt.title('Expenditures in 2018', size=16)\n",
    "ax.bar(months,expenditures)\n",
    "plt.show()"
   ]
  },
  {
   "cell_type": "markdown",
   "id": "15778c85-8447-4375-8069-95ac4d86bfdf",
   "metadata": {},
   "source": [
    "#### Quick check"
   ]
  },
  {
   "cell_type": "code",
   "execution_count": 100,
   "id": "d048ca44-50e2-4d80-b837-e64c29c7ad50",
   "metadata": {},
   "outputs": [
    {
     "name": "stdout",
     "output_type": "stream",
     "text": [
      "year month sales expenditures profit\n",
      "2018 jan 6226 3808 2418\n",
      "2018 feb 1521 3373 -1852\n",
      "2018 mar 1842 3965 -2123\n",
      "2018 apr 2051 1098 953\n",
      "2018 may 1728 3046 -1318\n",
      "2018 jun 2138 2258 -120\n",
      "2018 jul 7479 2084 5395\n",
      "2018 aug 4434 2799 1635\n",
      "2018 sep 3615 1649 1966\n",
      "2018 oct 5472 1116 4356\n",
      "2018 nov 7224 1431 5793\n",
      "2018 dec 1812 3532 -1720\n"
     ]
    }
   ],
   "source": [
    "print(\"year month sales expenditures profit\")\n",
    "for i in range(len(years)):\n",
    "    print(years[i], months[i], sales_all[i], expenditures[i], profit[i])"
   ]
  },
  {
   "cell_type": "code",
   "execution_count": 138,
   "id": "1a5f418e-9f35-4091-be4b-176e1324d935",
   "metadata": {},
   "outputs": [],
   "source": [
    "def check():\n",
    "    date = input('For which month do you want see data? Please write the first three letters of month')\n",
    "    index = months.index(date)\n",
    "    return ('The data for {} are: sale: {}, expenditure: {}, profit {}.'.format(date, sales_all[index], expenditures[index], profit[index]))"
   ]
  },
  {
   "cell_type": "code",
   "execution_count": 140,
   "id": "b3bee1bf-ccfa-4a2e-bcea-77bd12b6536f",
   "metadata": {},
   "outputs": [
    {
     "name": "stdin",
     "output_type": "stream",
     "text": [
      "For which month do you want see data? Please write the first three letters of month may\n"
     ]
    },
    {
     "name": "stdout",
     "output_type": "stream",
     "text": [
      "The data for may are: sale: 1728, expenditure: 3046, profit -1318.\n"
     ]
    }
   ],
   "source": [
    "print(check()) "
   ]
  },
  {
   "cell_type": "code",
   "execution_count": null,
   "id": "4a40c6eb-1430-4d9d-b3d1-2deb69262073",
   "metadata": {},
   "outputs": [],
   "source": []
  }
 ],
 "metadata": {
  "kernelspec": {
   "display_name": "Python 3 (ipykernel)",
   "language": "python",
   "name": "python3"
  },
  "language_info": {
   "codemirror_mode": {
    "name": "ipython",
    "version": 3
   },
   "file_extension": ".py",
   "mimetype": "text/x-python",
   "name": "python",
   "nbconvert_exporter": "python",
   "pygments_lexer": "ipython3",
   "version": "3.9.7"
  }
 },
 "nbformat": 4,
 "nbformat_minor": 5
}
