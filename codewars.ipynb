{
 "cells": [
  {
   "cell_type": "markdown",
   "id": "6b09d121-abd3-4364-b950-8cb2cea02221",
   "metadata": {},
   "source": [
    "#### 1. Floating point comparison\n",
    "#### You have:\n",
    "\n",
    "    a float value that comes from a computation and may have accumulated errors up to ±0.001\n",
    "    a reference value\n",
    "\n",
    "    a function approx_equals that compare the two values taking into account loss of precision; the function should return True if and only if the two values are close to each other, the maximum allowed difference is 0.001\n",
    "\n",
    "The function is bugged and sometimes returns wrong results.\n",
    "\n",
    "Your task is to correct the bug."
   ]
  },
  {
   "cell_type": "code",
   "execution_count": 1,
   "id": "d745f00d-4433-447e-8b73-b35413a6466c",
   "metadata": {},
   "outputs": [],
   "source": [
    "def approx_equals(a, b):\n",
    "    return abs(a - b) <= 0.001"
   ]
  },
  {
   "cell_type": "markdown",
   "id": "5564310a-99d5-4422-a996-0a0d78775f12",
   "metadata": {},
   "source": [
    "#### 2. Count Odd Numbers below n\n",
    "Description:\n",
    "\n",
    "Given a number n, return the number of positive odd numbers below n, EASY!"
   ]
  },
  {
   "cell_type": "code",
   "execution_count": 3,
   "id": "8086e09b-284a-4c91-bb33-917605fc5088",
   "metadata": {},
   "outputs": [],
   "source": [
    "def odd_count(n):\n",
    "    return n//2"
   ]
  },
  {
   "cell_type": "markdown",
   "id": "8a2977ea-54d9-4393-b6fe-1d78e8b13852",
   "metadata": {},
   "source": [
    "#### 3.Credit Card Mask\n",
    "Usually when you buy something, you're asked whether your credit card number, phone number or answer to your most secret question is still correct. However, since someone could look over your shoulder, you don't want that shown on your screen. Instead, we mask it.\n",
    "\n",
    "Your task is to write a function maskify, which changes all but the last four characters into '#'."
   ]
  },
  {
   "cell_type": "code",
   "execution_count": 19,
   "id": "27e5f76e-d4cd-4dca-8bab-f31037c1025e",
   "metadata": {},
   "outputs": [],
   "source": [
    "# return masked string\n",
    "def maskify(cc):\n",
    "    if (len(cc) <= 4):\n",
    "        return cc\n",
    "    else:\n",
    "        return '#' *(len(cc)-4) + cc[-4:]"
   ]
  },
  {
   "cell_type": "markdown",
   "id": "5b7a8ded-005a-44a7-89d0-f522ca25fdf8",
   "metadata": {},
   "source": [
    "#### 4. Sum of Digits / Digital Root\n",
    "Digital root is the recursive sum of all the digits in a number.\n",
    "\n",
    "Given n, take the sum of the digits of n. If that value has more than one digit, continue reducing in this way until a single-digit number is produced. The input will be a non-negative integer."
   ]
  },
  {
   "cell_type": "code",
   "execution_count": 263,
   "id": "02db95b7-049a-479e-b260-7d0dc9b9e7e4",
   "metadata": {},
   "outputs": [],
   "source": [
    "def digital_root(n):\n",
    "    total = 0\n",
    "    for i in range(len(str(n))):\n",
    "        total += int(str(n)[i])\n",
    "    if total>9:\n",
    "        return digital_root(total)\n",
    "    else:\n",
    "        return total"
   ]
  },
  {
   "cell_type": "markdown",
   "id": "2fa89498-fd3f-406f-a690-58758c5d482b",
   "metadata": {},
   "source": [
    "#### 5. Function 3 - multiplying two numbers\n",
    "Implement a function which multiplies two numbers."
   ]
  },
  {
   "cell_type": "code",
   "execution_count": 1,
   "id": "1857521f-2689-468a-b33a-4b46a51047f7",
   "metadata": {},
   "outputs": [],
   "source": [
    "def multiply(a,b):\n",
    "    return a*b"
   ]
  },
  {
   "cell_type": "markdown",
   "id": "3b333513-88b1-451b-8de0-cc24f20192e1",
   "metadata": {},
   "source": [
    "#### 6. Total amount of pointsOur football team finished the championship. The result of each match look like \"x:y\". Results of all matches are recorded in the collection.\n",
    "\n",
    "For example: [\"3:1\", \"2:2\", \"0:1\", ...]\n",
    "\n",
    "Write a function that takes such collection and counts the points of our team in the championship. Rules for counting points for each match:\n",
    "\n",
    "if x > y: 3 points\n",
    "if x < y: 0 point\n",
    "if x = y: 1 point\n",
    "Notes:\n",
    "\n",
    "there are 10 matches in the championship\n",
    "0 <= x <= 4\n",
    "0 <= y <= 4"
   ]
  },
  {
   "cell_type": "code",
   "execution_count": 12,
   "id": "62b459a9-0fba-4f2a-bac5-f7bc5c93bc30",
   "metadata": {},
   "outputs": [
    {
     "name": "stdout",
     "output_type": "stream",
     "text": [
      "5\n"
     ]
    }
   ],
   "source": [
    "def points(games):\n",
    "    total = 0\n",
    "    for i in games:\n",
    "        if (i[0])==(i[-1]):\n",
    "            total += 1\n",
    "        elif (i[0])>(i[-1]):\n",
    "            total += 3\n",
    "    return total\n",
    "\n",
    "print(points([\"3:1\", \"2:2\", \"0:0\",\"0:1\"]))"
   ]
  },
  {
   "cell_type": "markdown",
   "id": "8267b21e-7bf4-4c0f-8c85-5db0af1d46ef",
   "metadata": {},
   "source": [
    "#### 7. Is it a palindrome? \n",
    "Write a function that checks if a given string (case insensitive) is a palindrome."
   ]
  },
  {
   "cell_type": "code",
   "execution_count": 21,
   "id": "55149612-a7a7-476d-8b41-597956bc7a83",
   "metadata": {},
   "outputs": [
    {
     "name": "stdout",
     "output_type": "stream",
     "text": [
      "False\n"
     ]
    }
   ],
   "source": [
    "def is_palindrome(s):\n",
    "    return s.upper() == s[::-1].upper()\n",
    "\n",
    "print(is_palindrome('Ania'))"
   ]
  },
  {
   "cell_type": "code",
   "execution_count": null,
   "id": "91b7a472-ced6-4be6-babb-8f7a850661ec",
   "metadata": {},
   "outputs": [],
   "source": []
  }
 ],
 "metadata": {
  "kernelspec": {
   "display_name": "Python 3 (ipykernel)",
   "language": "python",
   "name": "python3"
  },
  "language_info": {
   "codemirror_mode": {
    "name": "ipython",
    "version": 3
   },
   "file_extension": ".py",
   "mimetype": "text/x-python",
   "name": "python",
   "nbconvert_exporter": "python",
   "pygments_lexer": "ipython3",
   "version": "3.9.7"
  }
 },
 "nbformat": 4,
 "nbformat_minor": 5
}
